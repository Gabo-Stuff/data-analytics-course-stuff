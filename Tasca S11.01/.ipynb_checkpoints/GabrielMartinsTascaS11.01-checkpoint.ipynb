{
 "cells": [
  {
   "cell_type": "code",
   "execution_count": 1,
   "id": "af3e4863-329e-4693-8182-5a8cc4bcedda",
   "metadata": {},
   "outputs": [
    {
     "name": "stdout",
     "output_type": "stream",
     "text": [
      "Collecting mysql-connector-python\n",
      "  Downloading mysql_connector_python-9.5.0-cp313-cp313-win_amd64.whl.metadata (7.7 kB)\n",
      "Requirement already satisfied: pandas in c:\\users\\barce\\appdata\\local\\programs\\python\\python313\\lib\\site-packages (2.3.0)\n",
      "Requirement already satisfied: numpy>=1.26.0 in c:\\users\\barce\\appdata\\local\\programs\\python\\python313\\lib\\site-packages (from pandas) (2.3.1)\n",
      "Requirement already satisfied: python-dateutil>=2.8.2 in c:\\users\\barce\\appdata\\local\\programs\\python\\python313\\lib\\site-packages (from pandas) (2.9.0.post0)\n",
      "Requirement already satisfied: pytz>=2020.1 in c:\\users\\barce\\appdata\\local\\programs\\python\\python313\\lib\\site-packages (from pandas) (2025.2)\n",
      "Requirement already satisfied: tzdata>=2022.7 in c:\\users\\barce\\appdata\\local\\programs\\python\\python313\\lib\\site-packages (from pandas) (2025.2)\n",
      "Requirement already satisfied: six>=1.5 in c:\\users\\barce\\appdata\\local\\programs\\python\\python313\\lib\\site-packages (from python-dateutil>=2.8.2->pandas) (1.17.0)\n",
      "Downloading mysql_connector_python-9.5.0-cp313-cp313-win_amd64.whl (16.5 MB)\n",
      "   ---------------------------------------- 0.0/16.5 MB ? eta -:--:--\n",
      "   ---------- ----------------------------- 4.2/16.5 MB 29.6 MB/s eta 0:00:01\n",
      "   -------------- ------------------------- 6.0/16.5 MB 16.4 MB/s eta 0:00:01\n",
      "   ------------------------------- -------- 12.8/16.5 MB 22.3 MB/s eta 0:00:01\n",
      "   ---------------------------------------- 16.5/16.5 MB 21.3 MB/s eta 0:00:00\n",
      "Installing collected packages: mysql-connector-python\n",
      "Successfully installed mysql-connector-python-9.5.0\n",
      "Note: you may need to restart the kernel to use updated packages.\n"
     ]
    },
    {
     "name": "stderr",
     "output_type": "stream",
     "text": [
      "\n",
      "[notice] A new release of pip is available: 25.1.1 -> 25.3\n",
      "[notice] To update, run: python.exe -m pip install --upgrade pip\n"
     ]
    }
   ],
   "source": [
    "#pip install mysql-connector-python pandas"
   ]
  },
  {
   "cell_type": "code",
   "execution_count": 2,
   "id": "943c03d7-cd28-4e81-9e82-8aa25e263e8f",
   "metadata": {},
   "outputs": [],
   "source": [
    "import mysql.connector\n",
    "import pandas as pd"
   ]
  },
  {
   "cell_type": "code",
   "execution_count": 6,
   "id": "90742910-b540-478d-a57b-7b7c183a423e",
   "metadata": {},
   "outputs": [
    {
     "name": "stderr",
     "output_type": "stream",
     "text": [
      "C:\\Users\\barce\\AppData\\Local\\Temp\\ipykernel_11064\\4019581348.py:8: UserWarning: pandas only supports SQLAlchemy connectable (engine/connection) or database string URI or sqlite3 DBAPI2 connection. Other DBAPI2 objects are not tested. Please consider using SQLAlchemy.\n",
      "  df_company = pd.read_sql(\"SELECT * FROM company\", conexion)\n",
      "C:\\Users\\barce\\AppData\\Local\\Temp\\ipykernel_11064\\4019581348.py:9: UserWarning: pandas only supports SQLAlchemy connectable (engine/connection) or database string URI or sqlite3 DBAPI2 connection. Other DBAPI2 objects are not tested. Please consider using SQLAlchemy.\n",
      "  df_credit_card = pd.read_sql(\"SELECT * FROM credit_card\", conexion)\n",
      "C:\\Users\\barce\\AppData\\Local\\Temp\\ipykernel_11064\\4019581348.py:10: UserWarning: pandas only supports SQLAlchemy connectable (engine/connection) or database string URI or sqlite3 DBAPI2 connection. Other DBAPI2 objects are not tested. Please consider using SQLAlchemy.\n",
      "  df_transaction = pd.read_sql(\"SELECT * FROM transaction\", conexion)\n"
     ]
    },
    {
     "name": "stdout",
     "output_type": "stream",
     "text": [
      "  company_id               company_name           phone  \\\n",
      "0     b-2222  Ac Fermentum Incorporated  06 85 56 52 33   \n",
      "1     b-2226   Magna A Neque Industries  04 14 44 64 62   \n",
      "2     b-2230                Fusce Corp.  08 14 97 58 85   \n",
      "3     b-2234  Convallis In Incorporated  06 66 57 29 50   \n",
      "4     b-2238  Ante Iaculis Nec Foundati  08 23 04 99 53   \n",
      "\n",
      "                              email        country  \\\n",
      "0  donec.porttitor.tellus@yahoo.net        Germany   \n",
      "1       risus.donec.nibh@icloud.org      Australia   \n",
      "2              risus@protonmail.edu  United States   \n",
      "3                mauris.ut@aol.couk        Germany   \n",
      "4       sed.dictum.proin@outlook.ca    New Zealand   \n",
      "\n",
      "                            website  \n",
      "0      https://instagram.com/site\\r  \n",
      "1    https://whatsapp.com/group/9\\r  \n",
      "2  https://pinterest.com/sub/cars\\r  \n",
      "3        https://cnn.com/user/110\\r  \n",
      "4    https://netflix.com/settings\\r  \n",
      "   id     name    surname           phone                              email  \\\n",
      "0   1     Zeus     Gamble  1-282-581-0551       interdum.enim@protonmail.edu   \n",
      "1   2  Garrett  Mcconnell  (718) 257-2412  integer.vitae.nibh@protonmail.org   \n",
      "2   3   Ciaran   Harrison  (522) 598-1365           interdum.feugiat@aol.org   \n",
      "3   4   Howard   Stafford  1-411-740-3269          ornare.egestas@icloud.edu   \n",
      "4   5    Hayfa     Pierce  1-554-541-2077     et.malesuada.fames@hotmail.org   \n",
      "\n",
      "    birth_date        country          city postal_code  \\\n",
      "0  Nov 17 1985  United States      New York       10001   \n",
      "1  Aug 23 1992  United States  Philadelphia       19101   \n",
      "2  Apr 29 1998  United States       Houston       77001   \n",
      "3  Feb 18 1989  United States       Phoenix       85001   \n",
      "4  Sep 26 1998  United States  Philadelphia       19101   \n",
      "\n",
      "                   adress  \n",
      "0   348-7818 Sagittis St.  \n",
      "1             903 Sit Ave  \n",
      "2     736-2063 Tellus St.  \n",
      "3  Ap #545-2244 Erat. Rd.  \n",
      "4   341-2821 Ultrices Av.  \n"
     ]
    },
    {
     "name": "stderr",
     "output_type": "stream",
     "text": [
      "C:\\Users\\barce\\AppData\\Local\\Temp\\ipykernel_11064\\4019581348.py:11: UserWarning: pandas only supports SQLAlchemy connectable (engine/connection) or database string URI or sqlite3 DBAPI2 connection. Other DBAPI2 objects are not tested. Please consider using SQLAlchemy.\n",
      "  df_product = pd.read_sql(\"SELECT * FROM product\", conexion)\n",
      "C:\\Users\\barce\\AppData\\Local\\Temp\\ipykernel_11064\\4019581348.py:12: UserWarning: pandas only supports SQLAlchemy connectable (engine/connection) or database string URI or sqlite3 DBAPI2 connection. Other DBAPI2 objects are not tested. Please consider using SQLAlchemy.\n",
      "  df_user = pd.read_sql(\"SELECT * FROM user\", conexion)\n"
     ]
    }
   ],
   "source": [
    "conexion = mysql.connector.connect(\n",
    "    host=\"localhost\",\n",
    "    user=\"root\",\n",
    "    password=\"root\",\n",
    "    database=\"sprint4\"\n",
    ")\n",
    "\n",
    "df_company = pd.read_sql(\"SELECT * FROM company\", conexion)\n",
    "df_credit_card = pd.read_sql(\"SELECT * FROM credit_card\", conexion)\n",
    "df_transaction = pd.read_sql(\"SELECT * FROM transaction\", conexion)\n",
    "df_product = pd.read_sql(\"SELECT * FROM product\", conexion)\n",
    "df_user = pd.read_sql(\"SELECT * FROM user\", conexion)\n",
    "\n",
    "print(df_company.head())\n",
    "print(df_user.head())\n",
    "\n",
    "conexion.close()"
   ]
  },
  {
   "cell_type": "code",
   "execution_count": null,
   "id": "63823574-6df3-4df3-87f0-d6f40cc9e931",
   "metadata": {},
   "outputs": [],
   "source": []
  }
 ],
 "metadata": {
  "kernelspec": {
   "display_name": "Python 3 (ipykernel)",
   "language": "python",
   "name": "python3"
  },
  "language_info": {
   "codemirror_mode": {
    "name": "ipython",
    "version": 3
   },
   "file_extension": ".py",
   "mimetype": "text/x-python",
   "name": "python",
   "nbconvert_exporter": "python",
   "pygments_lexer": "ipython3",
   "version": "3.13.5"
  }
 },
 "nbformat": 4,
 "nbformat_minor": 5
}
