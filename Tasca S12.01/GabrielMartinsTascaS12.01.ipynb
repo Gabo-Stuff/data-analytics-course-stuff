{
 "cells": [
  {
   "cell_type": "code",
   "execution_count": 1,
   "id": "7b64b179-2c0d-46c1-a22a-a699396b809e",
   "metadata": {},
   "outputs": [],
   "source": [
    "import requests\n",
    "import json"
   ]
  },
  {
   "cell_type": "code",
   "execution_count": 29,
   "id": "925c4ae3-cb4c-41b3-bb6a-23226a40b875",
   "metadata": {},
   "outputs": [],
   "source": [
    "# URL de la API\n",
    "BASE_URL = \"https://jsonplaceholder.typicode.com\""
   ]
  },
  {
   "cell_type": "markdown",
   "id": "a52f45db-06be-4135-a3d0-9a1cbd7f7215",
   "metadata": {},
   "source": [
    "1 y 2: Consulta GET y mostrar en pantalla"
   ]
  },
  {
   "cell_type": "code",
   "execution_count": 30,
   "id": "324c0297-a7f8-4ca5-8e28-3ba2f028844f",
   "metadata": {},
   "outputs": [
    {
     "name": "stdout",
     "output_type": "stream",
     "text": [
      "publicaciones (/posts)\n",
      "Código: 200\n",
      "Cantidad de recursos: 100\n",
      "\n",
      "usuarios (/users)\n",
      "Código: 200\n",
      "Cantidad de recursos: 10\n",
      "\n",
      "tareas (/todos)\n",
      "Código: 200\n",
      "Cantidad de recursos: 200\n",
      "\n"
     ]
    }
   ],
   "source": [
    "#recursos a consultar\n",
    "resources = {\n",
    "    \"publicaciones\": \"/posts\",\n",
    "    \"usuarios\": \"/users\",\n",
    "    \"tareas\": \"/todos\"\n",
    "}\n",
    "results = {}\n",
    "for name, end in resources.items():\n",
    "    url = BASE_URL + end\n",
    "    res = requests.get(url)\n",
    "    data = res.json()\n",
    "    results[name] = {\n",
    "        \"code\": res.status_code,\n",
    "        \"count\": len(data)\n",
    "    }\n",
    "    print(f\"{name} ({end})\")\n",
    "    print(f\"Código: {results[name]['code']}\")\n",
    "    print(f\"Cantidad de recursos: {results[name]['count']}\\n\")"
   ]
  },
  {
   "cell_type": "markdown",
   "id": "7f1a57b3-c5a0-46bf-8fd8-3b09cf38ba51",
   "metadata": {},
   "source": [
    "3. Petición Inexistente (Error 404)"
   ]
  },
  {
   "cell_type": "code",
   "execution_count": 16,
   "id": "4c3e3a46-169d-4066-a5d3-535c03ab6fa1",
   "metadata": {},
   "outputs": [
    {
     "name": "stdout",
     "output_type": "stream",
     "text": [
      "URL: https://jsonplaceholder.typicode.com/posts/asdf\n",
      "Código: 404\n"
     ]
    }
   ],
   "source": [
    "#GET inválido\n",
    "no_existent_url = BASE_URL + \"/posts/asdf\"\n",
    "res = requests.get(no_existent_url)\n",
    "\n",
    "print(f\"URL: {no_existent_url}\")\n",
    "print(f\"Código: {res.status_code}\")"
   ]
  },
  {
   "cell_type": "markdown",
   "id": "9c3a7aeb-108d-47b3-9c8a-e6febd20ce01",
   "metadata": {},
   "source": [
    "4. Petición POST"
   ]
  },
  {
   "cell_type": "code",
   "execution_count": 36,
   "id": "721b6b1f-f7c8-471d-ba4d-729bf6310d93",
   "metadata": {},
   "outputs": [
    {
     "name": "stdout",
     "output_type": "stream",
     "text": [
      "Código: 201\n",
      "Respuesta:\n",
      " {\n",
      "    \"title\": \"Publicacion Data\",\n",
      "    \"body\": \"Body del mensaje\",\n",
      "    \"userId\": 10001,\n",
      "    \"id\": 101\n",
      "}\n"
     ]
    }
   ],
   "source": [
    "post_data = {\n",
    "    'title': 'Publicacion Data',\n",
    "    'body': 'Body del mensaje',\n",
    "    'userId': 10001\n",
    "}\n",
    "\n",
    "post_url = BASE_URL + \"/posts\"\n",
    "res_p = requests.post(post_url, json=post_data)\n",
    "\n",
    "print(f\"Código: {res_p.status_code}\")\n",
    "print(f\"Respuesta:\\n {json.dumps(res_p.json(), indent=4)}\")"
   ]
  },
  {
   "cell_type": "markdown",
   "id": "7da12286-ae9c-439a-8def-9ec448263c29",
   "metadata": {},
   "source": [
    "5. Petición PATCH"
   ]
  },
  {
   "cell_type": "code",
   "execution_count": 38,
   "id": "87c4de89-b16d-462e-a9ba-efa5b5ef15c8",
   "metadata": {},
   "outputs": [
    {
     "name": "stdout",
     "output_type": "stream",
     "text": [
      "Código de estado PATCH: 200\n",
      "Respuesta:\n",
      " {\n",
      "    \"title\": \"Publicacion Data 2.0\"\n",
      "}\n"
     ]
    }
   ],
   "source": [
    "patch_data = {\n",
    "    'title': 'Publicacion Data 2.0'\n",
    "}\n",
    "\n",
    "patch_url = BASE_URL + \"/posts/10001\"\n",
    "res_patch = requests.patch(patch_url, json=patch_data)\n",
    "\n",
    "print(f\"Código de estado PATCH: {res_patch.status_code}\")\n",
    "print(f\"Respuesta:\\n {json.dumps(res_patch.json(), indent=4)}\")"
   ]
  },
  {
   "cell_type": "markdown",
   "id": "ddc3d5ea-4a09-4e88-9f45-426bb5797c4e",
   "metadata": {},
   "source": [
    "6. Petición DELETE"
   ]
  },
  {
   "cell_type": "code",
   "execution_count": 39,
   "id": "d28ac80a-cce1-4e76-98a7-1b7b6d66386f",
   "metadata": {},
   "outputs": [
    {
     "name": "stdout",
     "output_type": "stream",
     "text": [
      "Código de estado DELETE: 200\n",
      "Respuesta:\n",
      " {}\n"
     ]
    }
   ],
   "source": [
    "delete_url = BASE_URL + \"/posts/10001\"\n",
    "res_delete = requests.delete(delete_url)\n",
    "\n",
    "print(f\"Código de estado DELETE: {res_delete.status_code}\")\n",
    "print(f\"Respuesta:\\n {json.dumps(res_delete.json(), indent=4)}\")"
   ]
  }
 ],
 "metadata": {
  "kernelspec": {
   "display_name": "Python 3 (ipykernel)",
   "language": "python",
   "name": "python3"
  },
  "language_info": {
   "codemirror_mode": {
    "name": "ipython",
    "version": 3
   },
   "file_extension": ".py",
   "mimetype": "text/x-python",
   "name": "python",
   "nbconvert_exporter": "python",
   "pygments_lexer": "ipython3",
   "version": "3.13.5"
  }
 },
 "nbformat": 4,
 "nbformat_minor": 5
}
