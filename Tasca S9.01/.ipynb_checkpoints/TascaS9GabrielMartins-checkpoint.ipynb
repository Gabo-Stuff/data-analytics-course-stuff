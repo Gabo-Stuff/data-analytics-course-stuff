{
 "cells": [
  {
   "cell_type": "markdown",
   "id": "e207301e-0631-44ea-8ce8-ef1d02e57ba1",
   "metadata": {},
   "source": [
    "<h3><center>NIVEL 1</center></h3>"
   ]
  },
  {
   "cell_type": "code",
   "execution_count": 33,
   "id": "2359c9e3-d3c7-4c69-91bc-314cfcfdcb17",
   "metadata": {},
   "outputs": [
    {
     "name": "stdout",
     "output_type": "stream",
     "text": [
      "Calculadora de IMC!\n",
      "Inserta tu peso en kg:\n"
     ]
    },
    {
     "name": "stdin",
     "output_type": "stream",
     "text": [
      " A\n"
     ]
    },
    {
     "name": "stdout",
     "output_type": "stream",
     "text": [
      "Por favor introduce un número válido (entero o decimal):\n"
     ]
    },
    {
     "name": "stdin",
     "output_type": "stream",
     "text": [
      " 74.8\n"
     ]
    },
    {
     "name": "stdout",
     "output_type": "stream",
     "text": [
      "Inserta tu altura en metros:\n"
     ]
    },
    {
     "name": "stdin",
     "output_type": "stream",
     "text": [
      " 1.73\n"
     ]
    },
    {
     "name": "stdout",
     "output_type": "stream",
     "text": [
      "Tu IMC es 24.99!\n",
      "Tienes peso normal.\n"
     ]
    }
   ],
   "source": [
    "print(\"Calculadora de IMC!\")\n",
    "\n",
    "def pedir_medida(msg):\n",
    "    print(msg)\n",
    "    while True:\n",
    "        try:\n",
    "            return float(input())\n",
    "        except ValueError:\n",
    "            print(\"Por favor introduce un número válido (entero o decimal):\")\n",
    "\n",
    "# misma función para ambos inputs, ya que son float\n",
    "peso = pedir_medida(\"Inserta tu peso en kg:\")\n",
    "altura = pedir_medida(\"Inserta tu altura en metros:\")\n",
    "\n",
    "# cálculo del IMC\n",
    "imc = peso/(altura*altura)\n",
    "print(f\"Tu IMC es {imc:.2f}!\")\n",
    "\n",
    "# condicionales de rango del IMC\n",
    "if imc < 18.5:\n",
    "    print(\"Tienes bajo peso.\")\n",
    "elif imc < 25:\n",
    "    print(\"Tienes peso normal.\")\n",
    "elif imc < 30:\n",
    "    print(\"Tienes sobre peso.\")\n",
    "else:\n",
    "    print(\"Tienes obesidad.\")"
   ]
  },
  {
   "cell_type": "code",
   "execution_count": 4,
   "id": "b1da74bc-5fc8-4ad2-8328-8c0c184e7156",
   "metadata": {},
   "outputs": [
    {
     "name": "stdout",
     "output_type": "stream",
     "text": [
      "Conversor de temperatura!\n",
      "Introduce una temperatura:\n"
     ]
    },
    {
     "name": "stdin",
     "output_type": "stream",
     "text": [
      " A\n"
     ]
    },
    {
     "name": "stdout",
     "output_type": "stream",
     "text": [
      "Por favor introduce un número válido (entero o decimal):\n"
     ]
    },
    {
     "name": "stdin",
     "output_type": "stream",
     "text": [
      " -273.15\n"
     ]
    },
    {
     "name": "stdout",
     "output_type": "stream",
     "text": [
      "Por favor introduce una unidad de temperatura (entre C, K o F):\n"
     ]
    },
    {
     "name": "stdin",
     "output_type": "stream",
     "text": [
      " A\n"
     ]
    },
    {
     "name": "stdout",
     "output_type": "stream",
     "text": [
      "Por favor introduce una unidad de temperatura (entre C, K o F):\n"
     ]
    },
    {
     "name": "stdin",
     "output_type": "stream",
     "text": [
      " C\n"
     ]
    },
    {
     "name": "stdout",
     "output_type": "stream",
     "text": [
      "-273.15 °C equivalen a:\n",
      "-273.15 °C\n",
      "-459.67 °F\n",
      "0.00 °K\n"
     ]
    }
   ],
   "source": [
    "print(\"Conversor de temperatura!\")\n",
    "\n",
    "def input_temp():\n",
    "    print(\"Introduce una temperatura:\")\n",
    "    while True:\n",
    "        try:\n",
    "            return float(input())\n",
    "        except ValueError:\n",
    "            print(\"Por favor introduce un número válido (entero o decimal):\")\n",
    "\n",
    "def input_u():\n",
    "    while True:\n",
    "        print(\"Por favor introduce una unidad de temperatura (entre C, K o F):\")\n",
    "        u = str(input().strip().upper())\n",
    "        if u in (\"C\", \"F\", \"K\"):\n",
    "            return u\n",
    "            \n",
    "# diccionarios para todos los casos de conversión\n",
    "def to_celsius(temp): return {\"C\": temp,\"F\": temp * 9/5 + 32,\"K\": temp + 273.15}\n",
    "def to_fahrenheit(temp): return {\"C\": (temp - 32) * 5/9, \"F\": temp,\"K\": (temp - 32) * 5/9 + 273.15}\n",
    "def to_kelvin(temp): return {\"C\": temp - 273.15,\"F\": (temp - 273.15) * 9/5 + 32, \"K\": temp}\n",
    "\n",
    "#llamamos a los inputs\n",
    "temp = input_temp()\n",
    "u = input_u()\n",
    "# diccionario para seleccionar cuál función usar\n",
    "u_func = {\"C\":to_celsius, \"F\":to_fahrenheit, \"K\":to_kelvin}\n",
    "\n",
    "print(f\"{temp} °{u} equivalen a:\")\n",
    "# print iterando por cada clave-valor de la función llamada\n",
    "for k, v in u_func[u](temp).items():\n",
    "    print(f\"{v:.2f} °{k}\")\n"
   ]
  },
  {
   "cell_type": "code",
   "execution_count": 11,
   "id": "b3ccf43a-aaf1-4adf-8bed-a7f3a6f1a9d3",
   "metadata": {},
   "outputs": [
    {
     "name": "stdout",
     "output_type": "stream",
     "text": [
      "Contador de palabras!\n"
     ]
    },
    {
     "name": "stdin",
     "output_type": "stream",
     "text": [
      "Escribe una frase!:          \n"
     ]
    },
    {
     "name": "stdout",
     "output_type": "stream",
     "text": [
      "Escribe una letra o número al menos.\n"
     ]
    },
    {
     "name": "stdin",
     "output_type": "stream",
     "text": [
      "Escribe una frase!: \"De CASA en ca!sa anduve, y de casa en cása quedé\". ¿En qué ca$¨sä estaré?\n"
     ]
    },
    {
     "name": "stdout",
     "output_type": "stream",
     "text": [
      "Conteo de palabras:\n",
      "Counter({'casa': 5, 'en': 3, 'de': 2, 'anduve': 1, 'y': 1, 'quede': 1, 'que': 1, 'estare': 1})\n",
      "promedio de longitud por palabra:\n",
      "3.40\n"
     ]
    }
   ],
   "source": [
    "import string\n",
    "import unicodedata\n",
    "from collections import Counter\n",
    "\n",
    "print(\"Contador de palabras!\")\n",
    "\n",
    "def get_input():\n",
    "        return input(\"Escribe una frase!:\")\n",
    "\n",
    "def clean_and_split():\n",
    "    while True:\n",
    "        input_ = get_input().split()\n",
    "        out = []\n",
    "        # filtrar cada palabra.\n",
    "        # Dejar solo alfanuméricos sin puntuación y cambiar a minúsculas\n",
    "        for p in input_:\n",
    "            p_limpia = \"\".join(c for c in unicodedata.normalize('NFD', p)if c.isalnum()\n",
    "                         ).lower()\n",
    "            # verificar que la palabra limpia no sea \"\"\n",
    "            if p_limpia: out.append(p_limpia)\n",
    "        # verificar que out no esté vacío\n",
    "        if out: return out\n",
    "        print(\"Escribe una letra o número al menos.\")\n",
    "\n",
    "palabras = clean_and_split()\n",
    "# conteo de palabras\n",
    "dict_ = Counter(palabras)\n",
    "print(\"Conteo de palabras:\")\n",
    "print(dict_)\n",
    "\n",
    "# conteo de letras y división promedio\n",
    "conteo_letras = 0\n",
    "for p in palabras:\n",
    "    conteo_letras += len(p)\n",
    "print(f\"promedio de longitud por palabra:\\n{conteo_letras/len(palabras):.2f}\")"
   ]
  },
  {
   "cell_type": "code",
   "execution_count": 2,
   "id": "d90cfed0-18a6-43d6-ae1e-bfee10e70eba",
   "metadata": {},
   "outputs": [
    {
     "name": "stdout",
     "output_type": "stream",
     "text": [
      "Duplicados encontrados:\n",
      "clave duplicada: banana, valores: ['y', 'z', 'omega']\n",
      "clave duplicada: apple, valores: ['x', 'delta']\n",
      "diccionario invertido:  {'apple': ['x', 'delta'], 'banana': ['y', 'z', 'omega'], 'mango': 'epsilon'}\n"
     ]
    }
   ],
   "source": [
    "def reverse_dictionary(dict_):\n",
    "    duplicates={}\n",
    "    new_dict = {}\n",
    "    # iterar por el diccionario\n",
    "    for k,v in dict_.items():\n",
    "        # verificar si la nueva clave (v) ya está en el diccionario\n",
    "        if v in new_dict:\n",
    "            # verificar si la nueva clave (v) está en duplicados\n",
    "            if v not in duplicates:\n",
    "                duplicates[v]=[new_dict[v]]\n",
    "                new_dict[v]=[new_dict[v]]\n",
    "            # añadir un nuevo valor para la clave\n",
    "            duplicates[v].append(k)\n",
    "            new_dict[v].append(k)\n",
    "        else:\n",
    "            new_dict[v]=k\n",
    "    # print de duplicados\n",
    "    if duplicates:\n",
    "        print(\"Duplicados encontrados:\")\n",
    "        for v,k in duplicates.items():\n",
    "            print(f\"clave duplicada: {v}, valores: {k}\")\n",
    "            \n",
    "    return new_dict\n",
    "\n",
    "dict_={'x':'apple','y':'banana','z':'banana', 'delta':'apple', 'omega':'banana','epsilon':'mango'}\n",
    "# print diccionario final\n",
    "print(\"diccionario invertido: \",reverse_dictionary(dict_))"
   ]
  },
  {
   "cell_type": "markdown",
   "id": "379b9261-48d8-4414-874b-dd17f59967a3",
   "metadata": {},
   "source": [
    "<h3><center>NIVEL 2</center></h3>"
   ]
  },
  {
   "cell_type": "code",
   "execution_count": 13,
   "id": "abc40c7c-c191-45ab-be6b-47c247cce9cc",
   "metadata": {},
   "outputs": [
    {
     "name": "stdout",
     "output_type": "stream",
     "text": [
      "{'a': {'a': 3,\n",
      "       'agua': 1,\n",
      "       'al': 2,\n",
      "       'alba': 4,\n",
      "       'alcobas': 1,\n",
      "       'alimenta': 1,\n",
      "       'alma': 1,\n",
      "       'amarga': 1,\n",
      "       'azucena': 1},\n",
      " 'b': {'baco': 1,\n",
      "       'banquete': 1,\n",
      "       'bebe': 1,\n",
      "       'blanca': 3,\n",
      "       'boca': 1,\n",
      "       'bosques': 1,\n",
      "       'buen': 1},\n",
      " 'c': {'cabañas': 1,\n",
      "       'carnes': 2,\n",
      "       'casta': 3,\n",
      "       'cerrada': 1,\n",
      "       'con': 4,\n",
      "       'conservas': 1,\n",
      "       'copas': 1,\n",
      "       'corola': 1,\n",
      "       'corriste': 1,\n",
      "       'cuando': 2,\n",
      "       'cubierto': 1,\n",
      "       'cuerpo': 1,\n",
      "       'cuáles': 1},\n",
      " 'd': {'de': 8, 'dejaste': 1, 'del': 1, 'diga': 1, 'dios': 2, 'duerme': 1},\n",
      " 'e': {'el': 4,\n",
      "       'ellas': 1,\n",
      "       'en': 4,\n",
      "       'engaño': 1,\n",
      "       'enredada': 1,\n",
      "       'entonces': 1,\n",
      "       'escarcha': 1,\n",
      "       'espumas': 1,\n",
      "       'esqueleto': 1,\n",
      "       'estrago': 1},\n",
      " 'f': {'festejando': 1, 'filtrado': 1, 'frutos': 1},\n",
      " 'h': {'habla': 1,\n",
      "       'hacia': 1,\n",
      "       'haya': 1,\n",
      "       'hayas': 1,\n",
      "       'hermana': 1,\n",
      "       'hombre': 1,\n",
      "       'hubiste': 1,\n",
      "       'huye': 1},\n",
      " 'i': {'intacto': 1},\n",
      " 'j': {'jardines': 1},\n",
      " 'l': {'la': 3,\n",
      "       'labios': 1,\n",
      "       'las': 7,\n",
      "       'lo': 2,\n",
      "       'los': 4,\n",
      "       'luna': 1,\n",
      "       'lévate': 1,\n",
      "       'límpiate': 1},\n",
      " 'm': {'mano': 1,\n",
      "       'manos': 1,\n",
      "       'margarita': 1,\n",
      "       'me': 10,\n",
      "       'mi': 1,\n",
      "       'mieles': 1,\n",
      "       'milagros': 1,\n",
      "       'mojada': 1,\n",
      "       'montaña': 1,\n",
      "       'morados': 1},\n",
      " 'n': {'negros': 1, 'ni': 2, 'no': 1, 'nácar': 1, 'nívea': 2},\n",
      " 'p': {'perdone': 2,\n",
      "       'perfume': 1,\n",
      "       'por': 2,\n",
      "       'pretendes': 3,\n",
      "       'preténdeme': 3,\n",
      "       'puesto': 1,\n",
      "       'pájaros': 1,\n",
      "       'pámpanos': 1},\n",
      " 'q': {'que': 6, 'quedó': 1, 'quieres': 6},\n",
      " 'r': {'rayo': 1, 'raíz': 1, 'renueva': 1, 'rocas': 1, 'rojo': 1},\n",
      " 's': {'salitre': 1, 'se': 2, 'sea': 1, 'sean': 1, 'sobre': 2, 'sé': 1},\n",
      " 't': {'te': 3,\n",
      "       'tejidos': 1,\n",
      "       'tenue': 1,\n",
      "       'tierra': 1,\n",
      "       'toca': 1,\n",
      "       'todas': 2,\n",
      "       'todavía': 1,\n",
      "       'tornadas': 1,\n",
      "       'tú': 8},\n",
      " 'u': {'un': 1, 'una': 1},\n",
      " 'v': {'vestido': 1, 'vete': 1, 'vive': 1},\n",
      " 'y': {'y': 5}}\n"
     ]
    }
   ],
   "source": [
    "from collections import Counter, defaultdict\n",
    "from pprint import pprint\n",
    "\n",
    "def count_words_by_letter(path):\n",
    "    # leer el archivo y transformar a minúsculas\n",
    "    with open(path, \"r\", encoding=\"utf-8\") as f:\n",
    "        txt = f.read().lower()\n",
    "\n",
    "    # Eliminar signos de puntuación\n",
    "    for p in \"¡!¿?.,;:()\":\n",
    "        txt = txt.replace(p, \"\")\n",
    "    words = txt.split()\n",
    "    # Conteo de palabras\n",
    "    word_count = Counter(words)\n",
    "\n",
    "    # Defaultdict para crear entradas automáticas\n",
    "    dict_by_letter = defaultdict(dict)\n",
    "    # crear entradas de letras y palabras\n",
    "    for word, num in word_count.items():\n",
    "        letter = word[0]\n",
    "        dict_by_letter[letter][word] = num\n",
    "\n",
    "    # Ordenar letras y palabras\n",
    "    return {letter: dict(sorted(dict_by_letter[letter].items()))\n",
    "            for letter in sorted(dict_by_letter.keys())}\n",
    "\n",
    "out = count_words_by_letter(\"tu me quieres blanca.txt\")\n",
    "pprint(out, sort_dicts=False)"
   ]
  },
  {
   "cell_type": "code",
   "execution_count": 33,
   "id": "04381489-7242-4e9c-b692-276bd84d7772",
   "metadata": {},
   "outputs": [
    {
     "name": "stdout",
     "output_type": "stream",
     "text": [
      "[1.3, 10000000000.0, 2.0, 1.0, 1.4, 1.0, 2.0, 3.0, 3.4]\n",
      "['one', 'seven', '3-1/2', 'not-a-number']\n"
     ]
    }
   ],
   "source": [
    "def conversion(list_):    \n",
    "    list_float=[]\n",
    "    list_no_float=[]\n",
    "    # nested function para reutilizar el código, sin tener que\n",
    "    # devolver listas\n",
    "    def append_(el):\n",
    "        # si no convierte a float, es string\n",
    "        try:\n",
    "            el = float(el)\n",
    "            list_float.append(el)\n",
    "        except ValueError:\n",
    "            list_no_float.append(el)\n",
    "            \n",
    "    # llamamos a append_ por cafa elemento o cada elemento dentro de otro elemento\n",
    "    for el in list_:\n",
    "        if isinstance(el, (tuple,list)):\n",
    "            for el_of_el in el:\n",
    "                append_(el_of_el)\n",
    "        else:\n",
    "            append_(el)\n",
    "\n",
    "    print(list_float)\n",
    "    print(list_no_float)\n",
    "\n",
    "list_ = [ '1.3', 'one' , '1e10' , 'seven', '3-1/2', ('2',1,1.4,'not-a-number'), [1,2,'3','3.4']]\n",
    "conversion(list_)"
   ]
  }
 ],
 "metadata": {
  "kernelspec": {
   "display_name": "Python 3 (ipykernel)",
   "language": "python",
   "name": "python3"
  },
  "language_info": {
   "codemirror_mode": {
    "name": "ipython",
    "version": 3
   },
   "file_extension": ".py",
   "mimetype": "text/x-python",
   "name": "python",
   "nbconvert_exporter": "python",
   "pygments_lexer": "ipython3",
   "version": "3.13.5"
  }
 },
 "nbformat": 4,
 "nbformat_minor": 5
}
